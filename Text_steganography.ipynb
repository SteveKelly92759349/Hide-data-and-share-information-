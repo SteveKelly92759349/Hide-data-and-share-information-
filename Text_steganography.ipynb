{
  "cells": [
    {
      "cell_type": "markdown",
      "metadata": {
        "id": "ztMSGO-kKMcK"
      },
      "source": [
        "## 1. Hàm hỗ trợ"
      ]
    },
    {
      "cell_type": "code",
      "execution_count": null,
      "metadata": {
        "id": "dKV46JejKMcK"
      },
      "outputs": [],
      "source": [
        "def tobits(s):\n",
        "    result = []\n",
        "    for c in s:\n",
        "        bits = bin(ord(c))[2:]\n",
        "        bits = '00000000'[len(bits):] + bits\n",
        "        result.extend([int(b) for b in bits])\n",
        "    return result\n",
        "\n",
        "def frombits(bits):\n",
        "    chars = []\n",
        "    for b in range(len(bits) // 8):\n",
        "        byte = bits[b*8:(b+1)*8]\n",
        "        chars.append(chr(int(''.join([str(bit) for bit in byte]), 2)))\n",
        "    return ''.join(chars)"
      ]
    },
    {
      "cell_type": "markdown",
      "metadata": {
        "id": "9idBlS3pKMcL"
      },
      "source": [
        "## 2. Hàm nhúng"
      ]
    },
    {
      "cell_type": "code",
      "execution_count": null,
      "metadata": {
        "deletable": false,
        "nbgrader": {
          "cell_type": "code",
          "checksum": "620c8c02cddbfa7e68400a1cd6099a5d",
          "grade": false,
          "grade_id": "cell-2f21b430087c5c35",
          "locked": false,
          "schema_version": 3,
          "solution": true,
          "task": false
        },
        "id": "JX5oVsbDKMcL"
      },
      "outputs": [],
      "source": [
        "def embed(msg_file, cover_text_file, text_width, stego_text_file):\n",
        "    '''\n",
        "    Nhúng tin mật vào văn bản bằng phương pháp chèn khoảng trắng \n",
        "    để văn bản được căn lề 2 bên.\n",
        "    \n",
        "    Các tham số:\n",
        "        msg_file (str): Tên file chứa secret message.\n",
        "        cover_text_file (str): Tên file chứa cover text.\n",
        "        text_width (int): Chiều dài của dòng sau khi được căn lề.\n",
        "        stego_text_file (str): Tên file chứa stego text.\n",
        "    Giá trị trả về:\n",
        "        bool: True nếu nhúng thành không, False nếu không đủ chỗ để nhúng. \n",
        "    '''\n",
        "    '''\n",
        "    theo qui ước: bit 0 = 1 khoảng trắng chèn thêm 1 khoảng trắng + 1\n",
        "    khoảng trắng, bit 1 = 1 khoảng trắng + 1 khoảng trắng chèn thêm 1\n",
        "    khoảng trắng; b += 1\n",
        "    • Ngược lại: lần đầu (trong cả quá trình nhúng) nhúng bit 1, những lần\n",
        "    sau nhúng bit 0\n",
        "    \n",
        "    • Với các khoảng trắng còn lại của dòng l: nếu min(m, n-m) = n-m thì chèn\n",
        "    thêm một khoảng trắng vào mỗi khoảng trắng\n",
        "    \n",
        "    ▪ Còn nếu m ≥ n: không nhúng được bit, nhưng mỗi khoảng trắng cần được\n",
        "    chèn thêm ít nhất một khoảng trắng để dòng l được căn lề\n",
        "    \n",
        "     l += 1\n",
        "     Nếu vẫn chưa nhúng được bit 1 (trong đuôi 100...): NHÚNG\n",
        "    THẤT BẠI!\n",
        "    '''\n",
        "    with open(cover_text_file, 'r') as f:\n",
        "      cover_text_lines = f.read().splitlines()\n",
        "    \n",
        "    with open(msg_file, 'r') as f:\n",
        "        msg = f.read()\n",
        "    \n",
        "    # msg_bits = bitarray.bitarray()\n",
        "    # msg_bits.fromstring(msg)\n",
        "    msg_bits = tobits(msg)\n",
        "    stego_text = ''\n",
        "    b = 0 # Chỉ số duyệt từng bit của msg_bits\n",
        "    l = 0 # Chỉ số duyệt từng dòng của cover_text\n",
        "    last_bit = False\n",
        "    for line in cover_text_lines:\n",
        "        if l < len(cover_text_lines)-1: # Có thể nhúng được bit\n",
        "            if cover_text_lines[l+1] != '':\n",
        "                line_width = len(line)\n",
        "                if line_width < text_width:\n",
        "                    n = line.count(' ') # n = số khoảng trắng của dòng l\n",
        "                    m = text_width - line_width # m = số khoảng trắng cần phải chèn để dòng l được căn lề = text_width – len(dòng l)\n",
        "                    if 0 < m < n: # Nhúng được min(m, n-m) bit\n",
        "                        num_bits = min(m, n-m) # cặp khoảng trắng đầu của dòng l\n",
        "                        words = line.split()\n",
        "                        for i in range(num_bits):\n",
        "                            if b < len(msg_bits):\n",
        "                                if msg_bits[b] == 0:\n",
        "                                    words.insert(i*3+1, ' ')\n",
        "                                else:\n",
        "                                    words.insert(i*3+2, ' ')\n",
        "                                b += 1\n",
        "                            else:\n",
        "                                if last_bit == False:\n",
        "                                    words.insert(i*3+2, ' ')\n",
        "                                    last_bit = True\n",
        "                                else:\n",
        "                                    words.insert(i*3+1, ' ')\n",
        "                        \n",
        "                        if num_bits == n-m:\n",
        "                            j = m-num_bits\n",
        "                            while j > 0:\n",
        "                                words.insert(len(words)-j, ' ')\n",
        "                                j -= 1\n",
        "                                \n",
        "                        for w in range(len(words)):\n",
        "                            stego_text += words[w]\n",
        "                            if words[w] != ' ':\n",
        "                                if w < len(words)-1:\n",
        "                                    stego_text += ' '\n",
        "                    else:\n",
        "                        needed_spaces = m\n",
        "                        text_list = list(line)\n",
        "                        for i in range(int(-(-(m-n) // 1))+1):\n",
        "                            for j, c in enumerate(line):\n",
        "                                if needed_spaces > 0:\n",
        "                                    if c == ' ':\n",
        "                                        text_list[j] = ' '+' '*(i+1)\n",
        "                                        needed_spaces -= 1\n",
        "                        stego_text += ''.join(text_list)\n",
        "                else:\n",
        "                    stego_text += line\n",
        "            else:\n",
        "                stego_text += line\n",
        "            stego_text += '\\n'\n",
        "        else:\n",
        "            stego_text += line\n",
        "        l += 1\n",
        "    #print(stego_text)\n",
        "    with open(stego_text_file, 'w') as f:\n",
        "        f.write(stego_text)\n",
        "        \n",
        "    return last_bit"
      ]
    },
    {
      "cell_type": "code",
      "execution_count": null,
      "metadata": {
        "deletable": false,
        "editable": false,
        "nbgrader": {
          "cell_type": "code",
          "checksum": "85f0c8333ec0a8e0ed17110b6f0e215d",
          "grade": true,
          "grade_id": "cell-057a58bf038e1e60",
          "locked": true,
          "points": 5,
          "schema_version": 3,
          "solution": false,
          "task": false
        },
        "id": "1gCREp0wKMcM"
      },
      "outputs": [],
      "source": [
        "# TEST 1            \n",
        "result = embed('msg.txt', 'cover.txt', 70, 'stego.txt')\n",
        "assert result == True\n",
        "with open('stego.txt', 'r') as f:\n",
        "    stego_text = f.read()\n",
        "with open('correct_stego.txt', 'r') as f:\n",
        "    correct_stego_text = f.read()\n",
        "assert stego_text == correct_stego_text"
      ]
    },
    {
      "cell_type": "code",
      "execution_count": null,
      "metadata": {
        "deletable": false,
        "editable": false,
        "nbgrader": {
          "cell_type": "code",
          "checksum": "056ce8f73d36fbfd94beec3c97ec6fff",
          "grade": true,
          "grade_id": "cell-f625774497df6542",
          "locked": true,
          "points": 1,
          "schema_version": 3,
          "solution": false,
          "task": false
        },
        "id": "fe8fQ1-5KMcM"
      },
      "outputs": [],
      "source": [
        "# TEST 2\n",
        "result = embed('msg2.txt', 'cover.txt', 70, 'stego.txt')\n",
        "assert result == False"
      ]
    },
    {
      "cell_type": "markdown",
      "metadata": {
        "id": "y7BGMwy7KMcN"
      },
      "source": [
        "\n",
        "\n",
        "\n",
        "## 3. Hàm rút trích"
      ]
    },
    {
      "cell_type": "code",
      "execution_count": null,
      "metadata": {
        "deletable": false,
        "nbgrader": {
          "cell_type": "code",
          "checksum": "ab47043df0f050695b889c3d5ad57de2",
          "grade": false,
          "grade_id": "cell-f3f9b34770f282aa",
          "locked": false,
          "schema_version": 3,
          "solution": true,
          "task": false
        },
        "id": "_KjuLdSvKMcN"
      },
      "outputs": [],
      "source": [
        "def extract(stego_text_file, extr_msg_file):\n",
        "    '''\n",
        "    Hàm rút trích tin mật đã được nhúng bằng phương pháp chèn khoảng trắng.\n",
        "    \n",
        "    Các tham số:\n",
        "        stego_text_file (str): Tên file chứa stego text.\n",
        "        extr_msg_file (str): Tên file chứa secret message được rút trích.\n",
        "    '''\n",
        "    with open(stego_text_file, 'r') as f:\n",
        "        stego_text_lines = f.read().splitlines()\n",
        "    \n",
        "    extr_msg_bits = []\n",
        "    for line in stego_text_lines:\n",
        "        words = line.split(' ')\n",
        "        if len(words) > 2:\n",
        "            space_list = []\n",
        "            for i in range(len(words)-1):\n",
        "                if words[i] != '':\n",
        "                    if words[i+1] == '':\n",
        "                        space_list.append('  ')\n",
        "                    else:\n",
        "                        space_list.append(' ')\n",
        "            \n",
        "            c_spaces = [space_list[x:x+2] for x in range(0, len(space_list), 2)]\n",
        "            for p in c_spaces:\n",
        "                if len(p) == 2:\n",
        "                    if p[0] == '  ' and p[1] == ' ': #Nếu gặp 2 khoảng trắng + 1 khoảng trắng: thêm bit 0 vào extracted_msg_bits\n",
        "                        extr_msg_bits.append(0)\n",
        "                    elif p[0] == ' ' and p[1] == '  ': #nếu gặp 1 khoảng trắng + 2 khoảng trắng: thêm bit 1 vào extracted_msg_bits\n",
        "                        extr_msg_bits.append(1)\n",
        "\n",
        "    last_index = len(extr_msg_bits)-1\n",
        "    for i in reversed(range(len(extr_msg_bits))): #Cắt đoạn đuôi 100.. ra khỏi extracted_msg_bits\n",
        "        if extr_msg_bits[i] == 1:\n",
        "            last_index = i\n",
        "            break\n",
        "    extr_msg = frombits(extr_msg_bits[:last_index]) #lấy dữ liệu trừ đoạn đã cắt.\n",
        "    with open(extr_msg_file, 'w') as f:\n",
        "        f.write(extr_msg)"
      ]
    },
    {
      "cell_type": "code",
      "execution_count": null,
      "metadata": {
        "deletable": false,
        "editable": false,
        "nbgrader": {
          "cell_type": "code",
          "checksum": "cfe71ad39ca82548561ca5dcb025874d",
          "grade": true,
          "grade_id": "cell-caf1afe26d95b670",
          "locked": true,
          "points": 4,
          "schema_version": 3,
          "solution": false,
          "task": false
        },
        "id": "cQGbbhf3KMcN"
      },
      "outputs": [],
      "source": [
        "# TEST\n",
        "extract('correct_stego.txt', 'extr_msg.txt')\n",
        "with open('extr_msg.txt', 'r') as f:\n",
        "    extr_msg = f.read()\n",
        "with open('correct_extr_msg.txt', 'r') as f:\n",
        "    correct_extr_msg = f.read()\n",
        "assert extr_msg == correct_extr_msg"
      ]
    }
  ],
  "metadata": {
    "anaconda-cloud": {},
    "kernelspec": {
      "display_name": "Python 3",
      "language": "python",
      "name": "python3"
    },
    "language_info": {
      "codemirror_mode": {
        "name": "ipython",
        "version": 3
      },
      "file_extension": ".py",
      "mimetype": "text/x-python",
      "name": "python",
      "nbconvert_exporter": "python",
      "pygments_lexer": "ipython3",
      "version": "3.7.3"
    },
    "toc": {
      "nav_menu": {},
      "number_sections": false,
      "sideBar": true,
      "skip_h1_title": true,
      "title_cell": "Table of Contents",
      "title_sidebar": "Contents",
      "toc_cell": false,
      "toc_position": {
        "height": "calc(100% - 180px)",
        "left": "10px",
        "top": "150px",
        "width": "165px"
      },
      "toc_section_display": true,
      "toc_window_display": true
    },
    "colab": {
      "provenance": []
    }
  },
  "nbformat": 4,
  "nbformat_minor": 0
}