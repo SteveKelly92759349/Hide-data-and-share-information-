{
  "cells": [
    {
      "cell_type": "markdown",
      "metadata": {
        "id": "YnoUSLrAH_7s"
      },
      "source": [
        "---\n",
        "## Import"
      ]
    },
    {
      "cell_type": "code",
      "source": [
        "!pip install bitarray"
      ],
      "metadata": {
        "colab": {
          "base_uri": "https://localhost:8080/"
        },
        "id": "2DD1l5_Jc0vc",
        "outputId": "d6dff774-0470-4e91-ab86-336a540bf94c"
      },
      "execution_count": null,
      "outputs": [
        {
          "output_type": "stream",
          "name": "stdout",
          "text": [
            "Looking in indexes: https://pypi.org/simple, https://us-python.pkg.dev/colab-wheels/public/simple/\n",
            "Requirement already satisfied: bitarray in /usr/local/lib/python3.7/dist-packages (2.6.0)\n"
          ]
        }
      ]
    },
    {
      "cell_type": "code",
      "execution_count": null,
      "metadata": {
        "id": "LACL-QpeH_7s"
      },
      "outputs": [],
      "source": [
        "import constants\n",
        "from huffman import Huffman \n",
        "import jpeg_decoder\n",
        "\n",
        "import struct \n",
        "import numpy as np\n",
        "from scipy import fftpack\n",
        "from PIL import Image\n",
        "from bitarray import bitarray\n",
        "import matplotlib.pyplot as plt\n",
        "\n",
        "def tobits(s):\n",
        "    result = []\n",
        "    for c in s:\n",
        "        bits = bin(ord(c))[2:]\n",
        "        bits = '00000000'[len(bits):] + bits\n",
        "        result.extend([int(b) for b in bits])\n",
        "    return result\n",
        "\n",
        "def frombits(bits):\n",
        "    chars = []\n",
        "    for b in range(len(bits) // 8):\n",
        "        byte = bits[b*8:(b+1)*8]\n",
        "        chars.append(chr(int(''.join([str(bit) for bit in byte]), 2)))\n",
        "    return ''.join(chars)"
      ]
    },
    {
      "cell_type": "markdown",
      "metadata": {
        "id": "kX9qDUd9H_7t"
      },
      "source": [
        "---\n",
        "## Các hàm hỗ trợ"
      ]
    },
    {
      "cell_type": "code",
      "execution_count": null,
      "metadata": {
        "id": "_9l-Ym6VH_7t"
      },
      "outputs": [],
      "source": [
        "def dct2(pixels):\n",
        "    '''\n",
        "    Hàm biến đổi từ ma trận điểm ảnh sang ma trận hệ số DCT (2 ma trận có cùng shape).\n",
        "    '''\n",
        "    return fftpack.dct(fftpack.dct(pixels, axis=0, norm='ortho'), axis=1, norm='ortho')\n",
        "\n",
        "def idct2(dct_coefs):\n",
        "    '''\n",
        "    Hàm biến đổi từ ma trận hệ số DCT sang ma trận điểm ảnh (2 ma trận có cùng shape).\n",
        "    '''\n",
        "    return fftpack.idct(fftpack.idct(dct_coefs, axis=0 , norm='ortho'), axis=1, norm='ortho')"
      ]
    },
    {
      "cell_type": "code",
      "execution_count": null,
      "metadata": {
        "id": "3daGoB6EH_7u"
      },
      "outputs": [],
      "source": [
        "def get_header(img_height, img_width, quant_table):\n",
        "    '''\n",
        "    Hàm tính chuỗi byte ứng với header của ảnh JPEG.\n",
        "    (Code được điều chỉnh từ nguồn: https://github.com/reinhrst/pygreypeg.)\n",
        "    '''\n",
        "    buf = bytearray()\n",
        "\n",
        "    def writebyte(val):\n",
        "        buf.extend(struct.pack(\">B\", val))\n",
        "\n",
        "    def writeshort(val):\n",
        "        buf.extend(struct.pack(\">H\", val))\n",
        "\n",
        "    # SOI\n",
        "    writeshort(0xFFD8)  # SOI marker\n",
        "\n",
        "    # APP0\n",
        "    writeshort(0xFFE0)  # APP0 marker\n",
        "    writeshort(0x0010)  # segment length\n",
        "    writebyte(0x4A)     # 'J'\n",
        "    writebyte(0x46)     # 'F'\n",
        "    writebyte(0x49)     # 'I'\n",
        "    writebyte(0x46)     # 'F'\n",
        "    writebyte(0x00)     # '\\0'\n",
        "    writeshort(0x0101)  # v1.1\n",
        "    writebyte(0x00)     # no density unit\n",
        "    writeshort(0x0001)  # X density = 1\n",
        "    writeshort(0x0001)  # Y density = 1\n",
        "    writebyte(0x00)     # thumbnail width = 0\n",
        "    writebyte(0x00)     # thumbnail height = 0\n",
        "\n",
        "    # DQT\n",
        "    quant_table = quant_table.reshape(-1)\n",
        "    writeshort(0xFFDB)  # DQT marker\n",
        "    writeshort(0x0043)  # segment length\n",
        "    writebyte(0x00)     # table 0, 8-bit precision (0)\n",
        "    for index in constants.zz:\n",
        "        writebyte(quant_table[index])\n",
        "\n",
        "    # SOF0\n",
        "    writeshort(0xFFC0)  # SOF0 marker\n",
        "    writeshort(0x000B)  # segment length\n",
        "    writebyte(0x08)     # 8-bit precision\n",
        "    writeshort(img_height)\n",
        "    writeshort(img_width)\n",
        "    writebyte(0x01)     # 1 component only (grayscale)\n",
        "    writebyte(0x01)     # component ID = 1\n",
        "    writebyte(0x11)     # no subsampling\n",
        "    writebyte(0x00)     # quantization table 0\n",
        "\n",
        "    # DHT\n",
        "    writeshort(0xFFC4)                     # DHT marker\n",
        "    writeshort(19 + constants.dc_nb_vals)  # segment length\n",
        "    writebyte(0x00)                        # table 0 (DC), type 0 (0 = Y, 1 = UV)\n",
        "    for node in constants.dc_nodes[1:]:\n",
        "        writebyte(node)\n",
        "    for val in constants.dc_vals:\n",
        "        writebyte(val)\n",
        "\n",
        "    writeshort(0xFFC4)                     # DHT marker\n",
        "    writeshort(19 + constants.ac_nb_vals)\n",
        "    writebyte(0x10)                        # table 1 (AC), type 0 (0 = Y, 1 = UV)\n",
        "    for node in constants.ac_nodes[1:]:\n",
        "        writebyte(node)\n",
        "    for val in constants.ac_vals:\n",
        "        writebyte(val)\n",
        "\n",
        "    # SOS\n",
        "    writeshort(0xFFDA)  # SOS marker\n",
        "    writeshort(8)       # segment length\n",
        "    writebyte(0x01)     # nb. components\n",
        "    writebyte(0x01)     # Y component ID\n",
        "    writebyte(0x00)     # Y HT = 0\n",
        "    # segment end\n",
        "    writebyte(0x00)\n",
        "    writebyte(0x3F)\n",
        "    writebyte(0x00)\n",
        "\n",
        "    return buf"
      ]
    },
    {
      "cell_type": "markdown",
      "metadata": {
        "id": "gJdFy00kH_7u"
      },
      "source": [
        "---\n",
        "## Hàm nhúng"
      ]
    },
    {
      "cell_type": "code",
      "execution_count": null,
      "metadata": {
        "deletable": false,
        "nbgrader": {
          "cell_type": "code",
          "checksum": "110575a612ec970b8c7ef5e65dfeb46b",
          "grade": false,
          "grade_id": "cell-4d00b18bd9eac1b7",
          "locked": false,
          "schema_version": 3,
          "solution": true,
          "task": false
        },
        "id": "PyH7GYmGH_7v"
      },
      "outputs": [],
      "source": [
        "def embed(msg_file, cover_img_file, quant_table, stego_img_file):\n",
        "    '''\n",
        "    Nhúng tin mật vào ảnh jpeg (lossy) bằng phương pháp LSB với k = 1 \n",
        "    (xem file slide \"07-AnTinMatTrenAnh3.pdf\", trang 13).\n",
        "    Để đơn giản, ở đây ta sẽ giả định: ảnh là ảnh xám, \n",
        "                                       có chiều dài và chiều rộng chia hết cho 8.\n",
        "    \n",
        "    Các tham số:\n",
        "        msg_file (str): Tên file chứa secret message.\n",
        "        cover_img_file (str): Tên file chứa cover image.\n",
        "        quant_table (mảng numpy 8x8): Bảng quantization (bảng các số chia ở bước quantization).\n",
        "        stego_img_file (str): Tên file (*.jpg) chứa stego image (kết quả sau khi nhúng).\n",
        "    Giá trị trả về:\n",
        "        bool: True nếu nhúng thành không, False nếu không đủ chỗ để nhúng. \n",
        "    '''\n",
        "    # I. Đọc cover img file\n",
        "    \n",
        "    cover_img = Image.open(cover_img_file)\n",
        "    cover_pixels = np.array(cover_img, dtype=np.int)\n",
        "    height = cover_pixels.shape[0]\n",
        "    width = cover_pixels.shape[1]\n",
        "    \n",
        "    # II. Đọc msg file, chuyển msg thành msg bits, kiểm xem có đủ chỗ nhúng không, thêm 100... vào msg bits\n",
        "    \n",
        "    with open(msg_file, 'r') as f:\n",
        "        msg = f.read()\n",
        "        \n",
        "    msg_bits = bitarray()\n",
        "    msg_bits.frombytes(msg.encode())\n",
        "   \n",
        "    capacity = int(cover_pixels.size/64)*26\n",
        "    if len(msg_bits) + 1 > capacity:\n",
        "        return False\n",
        "    \n",
        "    msg_bits.extend('1' + '0' * (capacity - len(msg_bits) - 1))\n",
        "    \n",
        "    # III. Nén jpeg, trong quá trình nén thực hiện nhúng msg bits\n",
        "    jpeg_bytes = bytearray()\n",
        "    jpeg_bytes.extend(get_header(height, width, quant_table))\n",
        "    huf = Huffman()\n",
        "    \n",
        "    # Lần lượt duyệt các khối ảnh 8x8 (theo thứ tự từ trái qua phải, từ trên xuống dưới)\n",
        "    # Với mỗi khối:\n",
        "    # (1) Trừ 128 rồi tính các hệ số DCT\n",
        "    # (2) Tính các hệ số quantized DCT\n",
        "    # (3) Nhúng msg bits vào các hệ số quantized DCT\n",
        "    # (4) Nén các hệ số quantized DCT bằng thuật toán nén Huffman\n",
        "    #     Để nén dùng câu lệnh `huf.encode_block(quant_dct_coefs, length)`\n",
        "    #     Trong đó: \n",
        "    #     - `quant_dct_coefs` là mảng 1 chiều các hệ số quantized DCT \n",
        "    #       (có được bằng cách duyệt mảng 2 chiều theo thứ tự dích dắc:\n",
        "    #       đầu tiên, kéo mảng 2 chiều thành mảng một chiều, \n",
        "    #       rồi duyệt mảng một chiều này theo mảng chỉ số `constants.zz` đã được định nghĩa sẵn cho bạn)\n",
        "    #     - `length` là số lượng phần tử của mảng `quant_dct_coefs` tính\n",
        "    #       từ phần tử đầu cho đến phần tử khác 0 cuối cùng \n",
        "    #       (lưu ý: có thể xảy ra trường hợp tất cả phần tử đều bằng 0)\n",
        "    \n",
        "    b = 0\n",
        "    for r in range(0, cover_pixels.shape[0], 8):\n",
        "        for c in range(0, cover_pixels.shape[1], 8):\n",
        "            block = cover_pixels[r:(r+8),c:(c+8)]\n",
        "            dct = dct2(block-128)\n",
        "            quant_dct = np.round(dct / quant_table).astype(np.int)\n",
        "\n",
        "            for i in range(8):\n",
        "                for j in range(8):\n",
        "                    if i+j > 3 and i+j < 8:\n",
        "                        quant_dct[i,j] = (quant_dct[i,j]>>1<<1) + msg_bits[b]\n",
        "                        b += 1\n",
        "\n",
        "            quant_dct_coefs = quant_dct.flatten()[constants.zz]\n",
        "            length = np.max(np.nonzero(quant_dct_coefs))+1\n",
        "            huf.encode_block(quant_dct_coefs, length)\n",
        "    \n",
        "    jpeg_bytes.extend(huf.end_and_get_buffer())\n",
        "    jpeg_bytes.extend(struct.pack(\">H\", 0xFFD9))  # EOI marker\n",
        "    \n",
        "    # IV. Ghi kết quả nén jpeg xuống file\n",
        "    with open(stego_img_file, 'wb') as f:\n",
        "        f.write(jpeg_bytes)\n",
        "    \n",
        "    return True"
      ]
    },
    {
      "cell_type": "code",
      "execution_count": null,
      "metadata": {
        "deletable": false,
        "editable": false,
        "nbgrader": {
          "cell_type": "code",
          "checksum": "e776b131155c8e1d989f6489d3670e9f",
          "grade": true,
          "grade_id": "cell-1e0a132e141c548d",
          "locked": true,
          "points": 1,
          "schema_version": 3,
          "solution": false,
          "task": false
        },
        "id": "rlpzReADH_7v",
        "colab": {
          "base_uri": "https://localhost:8080/"
        },
        "outputId": "6bbf81cc-52eb-4cc1-db76-63ca443c5697"
      },
      "outputs": [
        {
          "output_type": "stream",
          "name": "stderr",
          "text": [
            "/usr/local/lib/python3.7/dist-packages/ipykernel_launcher.py:19: DeprecationWarning: `np.int` is a deprecated alias for the builtin `int`. To silence this warning, use `int` by itself. Doing this will not modify any behavior and is safe. When replacing `np.int`, you may wish to use e.g. `np.int64` or `np.int32` to specify the precision. If you wish to review your current use, check the release note link for additional information.\n",
            "Deprecated in NumPy 1.20; for more details and guidance: https://numpy.org/devdocs/release/1.20.0-notes.html#deprecations\n"
          ]
        }
      ],
      "source": [
        "# TEST\n",
        "quant_table = np.array([\n",
        "    16, 11, 10, 16,  1,  1,  1,  1,\n",
        "    12, 12, 14,  1,  1,  1,  1, 55,\n",
        "    14, 13,  1,  1,  1,  1, 69, 56,\n",
        "    14,  1,  1,  1,  1, 87, 80, 62,\n",
        "     1,  1,  1,  1, 68, 109, 103, 77,\n",
        "     1,  1,  1, 64, 81, 104, 113, 92,\n",
        "     1,  1, 78, 87, 103, 121, 120, 101,\n",
        "     1, 92, 95, 98, 112, 100, 103, 99\n",
        "]).reshape(8, 8)\n",
        "result = embed('msg2.txt', 'cover.bmp', quant_table, 'stego.jpg')\n",
        "assert result == False"
      ]
    },
    {
      "cell_type": "code",
      "execution_count": null,
      "metadata": {
        "deletable": false,
        "editable": false,
        "nbgrader": {
          "cell_type": "code",
          "checksum": "1973a6ef5188026c95e39500c00d32e3",
          "grade": true,
          "grade_id": "cell-f06a3d7cf3fc53d6",
          "locked": true,
          "points": 5,
          "schema_version": 3,
          "solution": false,
          "task": false
        },
        "id": "eA8Vk2wkH_7v",
        "colab": {
          "base_uri": "https://localhost:8080/",
          "height": 289
        },
        "outputId": "42039ef5-7a9c-4e96-cbfd-e4e21a9b7857"
      },
      "outputs": [
        {
          "output_type": "stream",
          "name": "stderr",
          "text": [
            "/usr/local/lib/python3.7/dist-packages/ipykernel_launcher.py:19: DeprecationWarning: `np.int` is a deprecated alias for the builtin `int`. To silence this warning, use `int` by itself. Doing this will not modify any behavior and is safe. When replacing `np.int`, you may wish to use e.g. `np.int64` or `np.int32` to specify the precision. If you wish to review your current use, check the release note link for additional information.\n",
            "Deprecated in NumPy 1.20; for more details and guidance: https://numpy.org/devdocs/release/1.20.0-notes.html#deprecations\n",
            "/usr/local/lib/python3.7/dist-packages/ipykernel_launcher.py:63: DeprecationWarning: `np.int` is a deprecated alias for the builtin `int`. To silence this warning, use `int` by itself. Doing this will not modify any behavior and is safe. When replacing `np.int`, you may wish to use e.g. `np.int64` or `np.int32` to specify the precision. If you wish to review your current use, check the release note link for additional information.\n",
            "Deprecated in NumPy 1.20; for more details and guidance: https://numpy.org/devdocs/release/1.20.0-notes.html#deprecations\n"
          ]
        },
        {
          "output_type": "error",
          "ename": "AssertionError",
          "evalue": "ignored",
          "traceback": [
            "\u001b[0;31m---------------------------------------------------------------------------\u001b[0m",
            "\u001b[0;31mAssertionError\u001b[0m                            Traceback (most recent call last)",
            "\u001b[0;32m<ipython-input-67-f71d5e9d1c77>\u001b[0m in \u001b[0;36m<module>\u001b[0;34m\u001b[0m\n\u001b[1;32m      2\u001b[0m \u001b[0mresult\u001b[0m \u001b[0;34m=\u001b[0m \u001b[0membed\u001b[0m\u001b[0;34m(\u001b[0m\u001b[0;34m'msg.txt'\u001b[0m\u001b[0;34m,\u001b[0m \u001b[0;34m'cover.bmp'\u001b[0m\u001b[0;34m,\u001b[0m \u001b[0mquant_table\u001b[0m\u001b[0;34m,\u001b[0m \u001b[0;34m'stego.jpg'\u001b[0m\u001b[0;34m)\u001b[0m\u001b[0;34m\u001b[0m\u001b[0;34m\u001b[0m\u001b[0m\n\u001b[1;32m      3\u001b[0m \u001b[0;32massert\u001b[0m \u001b[0mresult\u001b[0m \u001b[0;34m==\u001b[0m \u001b[0;32mTrue\u001b[0m\u001b[0;34m\u001b[0m\u001b[0;34m\u001b[0m\u001b[0m\n\u001b[0;32m----> 4\u001b[0;31m \u001b[0;32massert\u001b[0m \u001b[0mnp\u001b[0m\u001b[0;34m.\u001b[0m\u001b[0mall\u001b[0m\u001b[0;34m(\u001b[0m\u001b[0mnp\u001b[0m\u001b[0;34m.\u001b[0m\u001b[0marray\u001b[0m\u001b[0;34m(\u001b[0m\u001b[0mImage\u001b[0m\u001b[0;34m.\u001b[0m\u001b[0mopen\u001b[0m\u001b[0;34m(\u001b[0m\u001b[0;34m'stego.jpg'\u001b[0m\u001b[0;34m)\u001b[0m\u001b[0;34m)\u001b[0m \u001b[0;34m==\u001b[0m \u001b[0mnp\u001b[0m\u001b[0;34m.\u001b[0m\u001b[0marray\u001b[0m\u001b[0;34m(\u001b[0m\u001b[0mImage\u001b[0m\u001b[0;34m.\u001b[0m\u001b[0mopen\u001b[0m\u001b[0;34m(\u001b[0m\u001b[0;34m'correct_stego.jpg'\u001b[0m\u001b[0;34m)\u001b[0m\u001b[0;34m)\u001b[0m\u001b[0;34m)\u001b[0m\u001b[0;34m\u001b[0m\u001b[0;34m\u001b[0m\u001b[0m\n\u001b[0m",
            "\u001b[0;31mAssertionError\u001b[0m: "
          ]
        }
      ],
      "source": [
        "# TEST\n",
        "result = embed('msg.txt', 'cover.bmp', quant_table, 'stego.jpg')\n",
        "assert result == True\n",
        "assert np.all(np.array(Image.open('stego.jpg')) == np.array(Image.open('correct_stego.jpg')))"
      ]
    },
    {
      "cell_type": "markdown",
      "metadata": {
        "id": "6STpNQ__H_7w"
      },
      "source": [
        "---\n",
        "## Hàm rút trích"
      ]
    },
    {
      "cell_type": "code",
      "execution_count": null,
      "metadata": {
        "deletable": false,
        "nbgrader": {
          "cell_type": "code",
          "checksum": "c0fc14956b2e58a9f9bc237fbee7739f",
          "grade": false,
          "grade_id": "cell-88d4e1d5217cbbce",
          "locked": false,
          "schema_version": 3,
          "solution": true,
          "task": false
        },
        "id": "8jpjXdjRH_7w"
      },
      "outputs": [],
      "source": [
        "def extract(stego_img_file, extr_msg_file):\n",
        "    '''\n",
        "    Hàm rút trích tin mật đã được nhúng vào ảnh jpeg.\n",
        "    \n",
        "    Các tham số:\n",
        "        stego_img_file (str): Tên file chứa stego image.\n",
        "        extr_msg_file (str): Tên file chứa secret message được rút trích.\n",
        "    '''\n",
        "    # Trong quá trình giải nén stego img file, lấy các hệ số quantized dct và bảng quatization\n",
        "    quant_dct_coefs, quant_table = jpeg_decoder.get_quant_dct_coefs_and_quant_table(stego_img_file)\n",
        "    #print(quant_dct_coefs.shape, quant_table.shape)\n",
        "    \n",
        "    \n",
        "    extr_msg_bits = bitarray()\n",
        "    quant_dct = np.array(quant_dct_coefs).reshape(int(quant_dct_coefs.shape[0]/8),8)\n",
        "    \n",
        "    for r in range(0, quant_dct.shape[0], 8):\n",
        "        for c in range(0, quant_dct.shape[1], 8):\n",
        "            block = quant_dct[r:(r+8),c:(c+8)]\n",
        "            for i in range(8):\n",
        "                for j in range(8):\n",
        "                    if i+j > 3 and i+j < 8:\n",
        "                        extr_msg_bits.extend((np.binary_repr(block[i,j] & (2**1-1), 1)))\n",
        "    \n",
        "    extr_msg_bits = extr_msg_bits[:extr_msg_bits.to01().rfind('1')]\n",
        "    extr_msg = frombits(extr_msg_bits)\n",
        "    \n",
        "    with open(extr_msg_file, 'w') as f:\n",
        "        f.write(extr_msg)"
      ]
    },
    {
      "cell_type": "code",
      "execution_count": null,
      "metadata": {
        "deletable": false,
        "editable": false,
        "nbgrader": {
          "cell_type": "code",
          "checksum": "73bd2a989eae115a56bf5a8d5e133fa2",
          "grade": true,
          "grade_id": "cell-b349e0264d1f293c",
          "locked": true,
          "points": 4,
          "schema_version": 3,
          "solution": false,
          "task": false
        },
        "id": "dcBqMvwxH_7w"
      },
      "outputs": [],
      "source": [
        "# TEST\n",
        "extract('stego.jpg', 'extr_msg.txt')\n",
        "with open('extr_msg.txt', 'r') as f:\n",
        "    extr_msg = f.read()\n",
        "with open('msg.txt', 'r') as f:\n",
        "    correct_extr_msg = f.read()\n",
        "assert extr_msg == correct_extr_msg"
      ]
    }
  ],
  "metadata": {
    "anaconda-cloud": {},
    "kernelspec": {
      "display_name": "Python 3",
      "language": "python",
      "name": "python3"
    },
    "language_info": {
      "codemirror_mode": {
        "name": "ipython",
        "version": 3
      },
      "file_extension": ".py",
      "mimetype": "text/x-python",
      "name": "python",
      "nbconvert_exporter": "python",
      "pygments_lexer": "ipython3",
      "version": "3.7.4"
    },
    "toc": {
      "nav_menu": {},
      "number_sections": false,
      "sideBar": true,
      "skip_h1_title": false,
      "title_cell": "Table of Contents",
      "title_sidebar": "Contents",
      "toc_cell": false,
      "toc_position": {
        "height": "calc(100% - 180px)",
        "left": "10px",
        "top": "150px",
        "width": "165px"
      },
      "toc_section_display": true,
      "toc_window_display": true
    },
    "colab": {
      "provenance": []
    }
  },
  "nbformat": 4,
  "nbformat_minor": 0
}